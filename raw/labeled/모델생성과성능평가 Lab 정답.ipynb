{
 "cells": [
  {
   "cell_type": "markdown",
   "metadata": {},
   "source": [
    "# 모델생성과 성능평가 Lab"
   ]
  },
  {
   "cell_type": "code",
   "execution_count": 1,
   "metadata": {},
   "outputs": [],
   "source": [
    "import numpy as np \n",
    "import pandas as pd \n",
    "import os"
   ]
  },
  {
   "cell_type": "markdown",
   "metadata": {},
   "source": [
    "1. customer_scaled.csv 파일을 읽어서 customer_df에 저장하시오. 저장 후에 데이터의 특성을 탐색하시오."
   ]
  },
  {
   "cell_type": "code",
   "execution_count": 2,
   "metadata": {},
   "outputs": [
    {
     "data": {
      "text/html": [
       "<div>\n",
       "<style scoped>\n",
       "    .dataframe tbody tr th:only-of-type {\n",
       "        vertical-align: middle;\n",
       "    }\n",
       "\n",
       "    .dataframe tbody tr th {\n",
       "        vertical-align: top;\n",
       "    }\n",
       "\n",
       "    .dataframe thead th {\n",
       "        text-align: right;\n",
       "    }\n",
       "</style>\n",
       "<table border=\"1\" class=\"dataframe\">\n",
       "  <thead>\n",
       "    <tr style=\"text-align: right;\">\n",
       "      <th></th>\n",
       "      <th>Gender</th>\n",
       "      <th>MaritalStatus</th>\n",
       "      <th>HomeOwnerFlag</th>\n",
       "      <th>NumberCarsOwned</th>\n",
       "      <th>NumberChildrenAtHome</th>\n",
       "      <th>TotalChildren</th>\n",
       "      <th>YearlyIncome</th>\n",
       "      <th>BikeBuyer</th>\n",
       "      <th>AvgMonthSpend</th>\n",
       "      <th>Age</th>\n",
       "      <th>...</th>\n",
       "      <th>Education_Bachelors</th>\n",
       "      <th>Education_Graduate Degree</th>\n",
       "      <th>Education_High School</th>\n",
       "      <th>Education_Partial College</th>\n",
       "      <th>Education_Partial High School</th>\n",
       "      <th>Occupation_Clerical</th>\n",
       "      <th>Occupation_Management</th>\n",
       "      <th>Occupation_Manual</th>\n",
       "      <th>Occupation_Professional</th>\n",
       "      <th>Occupation_Skilled Manual</th>\n",
       "    </tr>\n",
       "  </thead>\n",
       "  <tbody>\n",
       "    <tr>\n",
       "      <th>0</th>\n",
       "      <td>0.0</td>\n",
       "      <td>1.0</td>\n",
       "      <td>1.0</td>\n",
       "      <td>0.6</td>\n",
       "      <td>0.000000</td>\n",
       "      <td>0.333333</td>\n",
       "      <td>0.496842</td>\n",
       "      <td>1.0</td>\n",
       "      <td>0.324210</td>\n",
       "      <td>0.185714</td>\n",
       "      <td>...</td>\n",
       "      <td>1.0</td>\n",
       "      <td>0.0</td>\n",
       "      <td>0.0</td>\n",
       "      <td>0.0</td>\n",
       "      <td>0.0</td>\n",
       "      <td>1.0</td>\n",
       "      <td>0.0</td>\n",
       "      <td>0.0</td>\n",
       "      <td>0.0</td>\n",
       "      <td>0.0</td>\n",
       "    </tr>\n",
       "    <tr>\n",
       "      <th>1</th>\n",
       "      <td>0.0</td>\n",
       "      <td>1.0</td>\n",
       "      <td>1.0</td>\n",
       "      <td>0.4</td>\n",
       "      <td>0.333333</td>\n",
       "      <td>0.666667</td>\n",
       "      <td>0.489453</td>\n",
       "      <td>1.0</td>\n",
       "      <td>0.425201</td>\n",
       "      <td>0.400000</td>\n",
       "      <td>...</td>\n",
       "      <td>0.0</td>\n",
       "      <td>0.0</td>\n",
       "      <td>0.0</td>\n",
       "      <td>1.0</td>\n",
       "      <td>0.0</td>\n",
       "      <td>1.0</td>\n",
       "      <td>0.0</td>\n",
       "      <td>0.0</td>\n",
       "      <td>0.0</td>\n",
       "      <td>0.0</td>\n",
       "    </tr>\n",
       "    <tr>\n",
       "      <th>2</th>\n",
       "      <td>1.0</td>\n",
       "      <td>0.0</td>\n",
       "      <td>0.0</td>\n",
       "      <td>0.6</td>\n",
       "      <td>0.000000</td>\n",
       "      <td>0.000000</td>\n",
       "      <td>0.536172</td>\n",
       "      <td>1.0</td>\n",
       "      <td>0.470977</td>\n",
       "      <td>0.214286</td>\n",
       "      <td>...</td>\n",
       "      <td>1.0</td>\n",
       "      <td>0.0</td>\n",
       "      <td>0.0</td>\n",
       "      <td>0.0</td>\n",
       "      <td>0.0</td>\n",
       "      <td>1.0</td>\n",
       "      <td>0.0</td>\n",
       "      <td>0.0</td>\n",
       "      <td>0.0</td>\n",
       "      <td>0.0</td>\n",
       "    </tr>\n",
       "    <tr>\n",
       "      <th>3</th>\n",
       "      <td>0.0</td>\n",
       "      <td>1.0</td>\n",
       "      <td>1.0</td>\n",
       "      <td>0.4</td>\n",
       "      <td>0.333333</td>\n",
       "      <td>0.666667</td>\n",
       "      <td>0.317083</td>\n",
       "      <td>1.0</td>\n",
       "      <td>0.605474</td>\n",
       "      <td>0.328571</td>\n",
       "      <td>...</td>\n",
       "      <td>0.0</td>\n",
       "      <td>0.0</td>\n",
       "      <td>0.0</td>\n",
       "      <td>1.0</td>\n",
       "      <td>0.0</td>\n",
       "      <td>0.0</td>\n",
       "      <td>0.0</td>\n",
       "      <td>0.0</td>\n",
       "      <td>0.0</td>\n",
       "      <td>1.0</td>\n",
       "    </tr>\n",
       "    <tr>\n",
       "      <th>4</th>\n",
       "      <td>0.0</td>\n",
       "      <td>0.0</td>\n",
       "      <td>1.0</td>\n",
       "      <td>0.2</td>\n",
       "      <td>0.000000</td>\n",
       "      <td>0.000000</td>\n",
       "      <td>0.231958</td>\n",
       "      <td>1.0</td>\n",
       "      <td>0.533742</td>\n",
       "      <td>0.357143</td>\n",
       "      <td>...</td>\n",
       "      <td>0.0</td>\n",
       "      <td>0.0</td>\n",
       "      <td>0.0</td>\n",
       "      <td>1.0</td>\n",
       "      <td>0.0</td>\n",
       "      <td>0.0</td>\n",
       "      <td>0.0</td>\n",
       "      <td>0.0</td>\n",
       "      <td>0.0</td>\n",
       "      <td>1.0</td>\n",
       "    </tr>\n",
       "    <tr>\n",
       "      <th>...</th>\n",
       "      <td>...</td>\n",
       "      <td>...</td>\n",
       "      <td>...</td>\n",
       "      <td>...</td>\n",
       "      <td>...</td>\n",
       "      <td>...</td>\n",
       "      <td>...</td>\n",
       "      <td>...</td>\n",
       "      <td>...</td>\n",
       "      <td>...</td>\n",
       "      <td>...</td>\n",
       "      <td>...</td>\n",
       "      <td>...</td>\n",
       "      <td>...</td>\n",
       "      <td>...</td>\n",
       "      <td>...</td>\n",
       "      <td>...</td>\n",
       "      <td>...</td>\n",
       "      <td>...</td>\n",
       "      <td>...</td>\n",
       "      <td>...</td>\n",
       "    </tr>\n",
       "    <tr>\n",
       "      <th>18350</th>\n",
       "      <td>1.0</td>\n",
       "      <td>1.0</td>\n",
       "      <td>1.0</td>\n",
       "      <td>0.2</td>\n",
       "      <td>0.000000</td>\n",
       "      <td>0.666667</td>\n",
       "      <td>0.544379</td>\n",
       "      <td>0.0</td>\n",
       "      <td>0.190656</td>\n",
       "      <td>0.571429</td>\n",
       "      <td>...</td>\n",
       "      <td>1.0</td>\n",
       "      <td>0.0</td>\n",
       "      <td>0.0</td>\n",
       "      <td>0.0</td>\n",
       "      <td>0.0</td>\n",
       "      <td>1.0</td>\n",
       "      <td>0.0</td>\n",
       "      <td>0.0</td>\n",
       "      <td>0.0</td>\n",
       "      <td>0.0</td>\n",
       "    </tr>\n",
       "    <tr>\n",
       "      <th>18351</th>\n",
       "      <td>1.0</td>\n",
       "      <td>0.0</td>\n",
       "      <td>0.0</td>\n",
       "      <td>0.2</td>\n",
       "      <td>0.000000</td>\n",
       "      <td>0.000000</td>\n",
       "      <td>0.518464</td>\n",
       "      <td>1.0</td>\n",
       "      <td>0.289287</td>\n",
       "      <td>0.200000</td>\n",
       "      <td>...</td>\n",
       "      <td>0.0</td>\n",
       "      <td>1.0</td>\n",
       "      <td>0.0</td>\n",
       "      <td>0.0</td>\n",
       "      <td>0.0</td>\n",
       "      <td>1.0</td>\n",
       "      <td>0.0</td>\n",
       "      <td>0.0</td>\n",
       "      <td>0.0</td>\n",
       "      <td>0.0</td>\n",
       "    </tr>\n",
       "    <tr>\n",
       "      <th>18352</th>\n",
       "      <td>1.0</td>\n",
       "      <td>0.0</td>\n",
       "      <td>0.0</td>\n",
       "      <td>0.0</td>\n",
       "      <td>0.000000</td>\n",
       "      <td>0.000000</td>\n",
       "      <td>0.224543</td>\n",
       "      <td>1.0</td>\n",
       "      <td>0.257669</td>\n",
       "      <td>0.200000</td>\n",
       "      <td>...</td>\n",
       "      <td>0.0</td>\n",
       "      <td>1.0</td>\n",
       "      <td>0.0</td>\n",
       "      <td>0.0</td>\n",
       "      <td>0.0</td>\n",
       "      <td>0.0</td>\n",
       "      <td>0.0</td>\n",
       "      <td>0.0</td>\n",
       "      <td>0.0</td>\n",
       "      <td>1.0</td>\n",
       "    </tr>\n",
       "    <tr>\n",
       "      <th>18353</th>\n",
       "      <td>1.0</td>\n",
       "      <td>0.0</td>\n",
       "      <td>0.0</td>\n",
       "      <td>0.2</td>\n",
       "      <td>0.000000</td>\n",
       "      <td>0.000000</td>\n",
       "      <td>0.072511</td>\n",
       "      <td>0.0</td>\n",
       "      <td>0.345446</td>\n",
       "      <td>0.242857</td>\n",
       "      <td>...</td>\n",
       "      <td>0.0</td>\n",
       "      <td>0.0</td>\n",
       "      <td>0.0</td>\n",
       "      <td>0.0</td>\n",
       "      <td>1.0</td>\n",
       "      <td>0.0</td>\n",
       "      <td>0.0</td>\n",
       "      <td>1.0</td>\n",
       "      <td>0.0</td>\n",
       "      <td>0.0</td>\n",
       "    </tr>\n",
       "    <tr>\n",
       "      <th>18354</th>\n",
       "      <td>1.0</td>\n",
       "      <td>1.0</td>\n",
       "      <td>1.0</td>\n",
       "      <td>0.0</td>\n",
       "      <td>0.333333</td>\n",
       "      <td>0.666667</td>\n",
       "      <td>0.038028</td>\n",
       "      <td>1.0</td>\n",
       "      <td>0.385559</td>\n",
       "      <td>0.285714</td>\n",
       "      <td>...</td>\n",
       "      <td>0.0</td>\n",
       "      <td>0.0</td>\n",
       "      <td>0.0</td>\n",
       "      <td>1.0</td>\n",
       "      <td>0.0</td>\n",
       "      <td>0.0</td>\n",
       "      <td>0.0</td>\n",
       "      <td>1.0</td>\n",
       "      <td>0.0</td>\n",
       "      <td>0.0</td>\n",
       "    </tr>\n",
       "  </tbody>\n",
       "</table>\n",
       "<p>18355 rows × 26 columns</p>\n",
       "</div>"
      ],
      "text/plain": [
       "       Gender  MaritalStatus  HomeOwnerFlag  NumberCarsOwned  \\\n",
       "0         0.0            1.0            1.0              0.6   \n",
       "1         0.0            1.0            1.0              0.4   \n",
       "2         1.0            0.0            0.0              0.6   \n",
       "3         0.0            1.0            1.0              0.4   \n",
       "4         0.0            0.0            1.0              0.2   \n",
       "...       ...            ...            ...              ...   \n",
       "18350     1.0            1.0            1.0              0.2   \n",
       "18351     1.0            0.0            0.0              0.2   \n",
       "18352     1.0            0.0            0.0              0.0   \n",
       "18353     1.0            0.0            0.0              0.2   \n",
       "18354     1.0            1.0            1.0              0.0   \n",
       "\n",
       "       NumberChildrenAtHome  TotalChildren  YearlyIncome  BikeBuyer  \\\n",
       "0                  0.000000       0.333333      0.496842        1.0   \n",
       "1                  0.333333       0.666667      0.489453        1.0   \n",
       "2                  0.000000       0.000000      0.536172        1.0   \n",
       "3                  0.333333       0.666667      0.317083        1.0   \n",
       "4                  0.000000       0.000000      0.231958        1.0   \n",
       "...                     ...            ...           ...        ...   \n",
       "18350              0.000000       0.666667      0.544379        0.0   \n",
       "18351              0.000000       0.000000      0.518464        1.0   \n",
       "18352              0.000000       0.000000      0.224543        1.0   \n",
       "18353              0.000000       0.000000      0.072511        0.0   \n",
       "18354              0.333333       0.666667      0.038028        1.0   \n",
       "\n",
       "       AvgMonthSpend       Age  ...  Education_Bachelors  \\\n",
       "0           0.324210  0.185714  ...                  1.0   \n",
       "1           0.425201  0.400000  ...                  0.0   \n",
       "2           0.470977  0.214286  ...                  1.0   \n",
       "3           0.605474  0.328571  ...                  0.0   \n",
       "4           0.533742  0.357143  ...                  0.0   \n",
       "...              ...       ...  ...                  ...   \n",
       "18350       0.190656  0.571429  ...                  1.0   \n",
       "18351       0.289287  0.200000  ...                  0.0   \n",
       "18352       0.257669  0.200000  ...                  0.0   \n",
       "18353       0.345446  0.242857  ...                  0.0   \n",
       "18354       0.385559  0.285714  ...                  0.0   \n",
       "\n",
       "       Education_Graduate Degree  Education_High School  \\\n",
       "0                            0.0                    0.0   \n",
       "1                            0.0                    0.0   \n",
       "2                            0.0                    0.0   \n",
       "3                            0.0                    0.0   \n",
       "4                            0.0                    0.0   \n",
       "...                          ...                    ...   \n",
       "18350                        0.0                    0.0   \n",
       "18351                        1.0                    0.0   \n",
       "18352                        1.0                    0.0   \n",
       "18353                        0.0                    0.0   \n",
       "18354                        0.0                    0.0   \n",
       "\n",
       "       Education_Partial College  Education_Partial High School  \\\n",
       "0                            0.0                            0.0   \n",
       "1                            1.0                            0.0   \n",
       "2                            0.0                            0.0   \n",
       "3                            1.0                            0.0   \n",
       "4                            1.0                            0.0   \n",
       "...                          ...                            ...   \n",
       "18350                        0.0                            0.0   \n",
       "18351                        0.0                            0.0   \n",
       "18352                        0.0                            0.0   \n",
       "18353                        0.0                            1.0   \n",
       "18354                        1.0                            0.0   \n",
       "\n",
       "       Occupation_Clerical  Occupation_Management  Occupation_Manual  \\\n",
       "0                      1.0                    0.0                0.0   \n",
       "1                      1.0                    0.0                0.0   \n",
       "2                      1.0                    0.0                0.0   \n",
       "3                      0.0                    0.0                0.0   \n",
       "4                      0.0                    0.0                0.0   \n",
       "...                    ...                    ...                ...   \n",
       "18350                  1.0                    0.0                0.0   \n",
       "18351                  1.0                    0.0                0.0   \n",
       "18352                  0.0                    0.0                0.0   \n",
       "18353                  0.0                    0.0                1.0   \n",
       "18354                  0.0                    0.0                1.0   \n",
       "\n",
       "       Occupation_Professional  Occupation_Skilled Manual  \n",
       "0                          0.0                        0.0  \n",
       "1                          0.0                        0.0  \n",
       "2                          0.0                        0.0  \n",
       "3                          0.0                        1.0  \n",
       "4                          0.0                        1.0  \n",
       "...                        ...                        ...  \n",
       "18350                      0.0                        0.0  \n",
       "18351                      0.0                        0.0  \n",
       "18352                      0.0                        1.0  \n",
       "18353                      0.0                        0.0  \n",
       "18354                      0.0                        0.0  \n",
       "\n",
       "[18355 rows x 26 columns]"
      ]
     },
     "execution_count": 2,
     "metadata": {},
     "output_type": "execute_result"
    }
   ],
   "source": [
    "# load data\n",
    "os.chdir(r'C:\\Users\\USER\\kjw\\데이터마이닝개론_24_2\\모델생성과성능평가')\n",
    "customer_df = pd.read_csv('customer_scaled.csv')\n",
    "customer_df"
   ]
  },
  {
   "cell_type": "code",
   "execution_count": 3,
   "metadata": {},
   "outputs": [
    {
     "data": {
      "text/plain": [
       "(18355, 26)"
      ]
     },
     "execution_count": 3,
     "metadata": {},
     "output_type": "execute_result"
    }
   ],
   "source": [
    "# shape of dataframe\n",
    "customer_df.shape"
   ]
  },
  {
   "cell_type": "code",
   "execution_count": 6,
   "metadata": {},
   "outputs": [
    {
     "data": {
      "text/plain": [
       "Gender                              float64\n",
       "MaritalStatus                       float64\n",
       "HomeOwnerFlag                       float64\n",
       "NumberCarsOwned                     float64\n",
       "NumberChildrenAtHome                float64\n",
       "TotalChildren                       float64\n",
       "YearlyIncome                        float64\n",
       "BikeBuyer                           float64\n",
       "AvgMonthSpend                       float64\n",
       "Age                                 float64\n",
       "CountryRegionName_Australia         float64\n",
       "CountryRegionName_Canada            float64\n",
       "CountryRegionName_France            float64\n",
       "CountryRegionName_Germany           float64\n",
       "CountryRegionName_United Kingdom    float64\n",
       "CountryRegionName_United States     float64\n",
       "Education_Bachelors                 float64\n",
       "Education_Graduate Degree           float64\n",
       "Education_High School               float64\n",
       "Education_Partial College           float64\n",
       "Education_Partial High School       float64\n",
       "Occupation_Clerical                 float64\n",
       "Occupation_Management               float64\n",
       "Occupation_Manual                   float64\n",
       "Occupation_Professional             float64\n",
       "Occupation_Skilled Manual           float64\n",
       "dtype: object"
      ]
     },
     "execution_count": 6,
     "metadata": {},
     "output_type": "execute_result"
    }
   ],
   "source": [
    "# dataframe dtypes for each feature\n",
    "customer_df.dtypes"
   ]
  },
  {
   "cell_type": "markdown",
   "metadata": {},
   "source": [
    "2. BikeBuyer를 제외한 컬럼으로 입력변수들로, BikeBuyer를 출력변수로 하고, 훈련 데이터와 테스트 데이터를 8:2로 분할하시오."
   ]
  },
  {
   "cell_type": "code",
   "execution_count": 3,
   "metadata": {},
   "outputs": [],
   "source": [
    "from sklearn.model_selection import train_test_split"
   ]
  },
  {
   "cell_type": "code",
   "execution_count": 4,
   "metadata": {},
   "outputs": [
    {
     "name": "stdout",
     "output_type": "stream",
     "text": [
      "train data set size = 14684,  test data set size = 3671\n"
     ]
    }
   ],
   "source": [
    "X_train, X_test, y_train, y_test = train_test_split(customer_df.drop(['BikeBuyer'],axis=1), customer_df['BikeBuyer'], test_size=0.2, random_state=42)\n",
    "print('train data set size = {0},  test data set size = {1}'.format(X_train.shape[0],X_test.shape[0]))"
   ]
  },
  {
   "cell_type": "markdown",
   "metadata": {},
   "source": [
    "3. 분류 모델의 성능을 출력하는 함수 get_clf_eval()을 작성하시오."
   ]
  },
  {
   "cell_type": "code",
   "execution_count": 5,
   "metadata": {},
   "outputs": [],
   "source": [
    "from sklearn.metrics import confusion_matrix\n",
    "from sklearn.metrics import precision_score , recall_score, accuracy_score\n",
    "\n",
    "def get_clf_eval(y_test,pred):\n",
    "    confusion = confusion_matrix(y_test,pred)\n",
    "    accuracy = accuracy_score(y_test,pred)\n",
    "    recall = recall_score(y_test,pred)\n",
    "    precision = precision_score(y_test,pred)\n",
    "    print('confusion matrix')\n",
    "    print(confusion)\n",
    "    print(\"정확도: {0:.4f}. 재현율: {0:.4f}, 정밀도: {0:.4f}\".format(accuracy, recall, precision))"
   ]
  },
  {
   "cell_type": "markdown",
   "metadata": {},
   "source": [
    "4. 의사결정나무를 만들고 분류 성능을 평가하시오."
   ]
  },
  {
   "cell_type": "code",
   "execution_count": 16,
   "metadata": {},
   "outputs": [],
   "source": [
    "from sklearn.tree import DecisionTreeClassifier"
   ]
  },
  {
   "cell_type": "code",
   "execution_count": 17,
   "metadata": {},
   "outputs": [
    {
     "data": {
      "text/plain": [
       "DecisionTreeClassifier(random_state=123)"
      ]
     },
     "execution_count": 17,
     "metadata": {},
     "output_type": "execute_result"
    }
   ],
   "source": [
    "# Decision Tree Classifer\n",
    "dt_clf=DecisionTreeClassifier(random_state=123)\n",
    "dt_clf.fit(X_train,y_train)"
   ]
  },
  {
   "cell_type": "code",
   "execution_count": 18,
   "metadata": {},
   "outputs": [],
   "source": [
    "dt_pred = dt_clf.predict(X_test)"
   ]
  },
  {
   "cell_type": "code",
   "execution_count": 19,
   "metadata": {},
   "outputs": [
    {
     "name": "stdout",
     "output_type": "stream",
     "text": [
      "confusion matrix\n",
      "[[ 813  862]\n",
      " [ 860 1136]]\n",
      "정확도: 0.5309. 재현율: 0.5309, 정밀도: 0.5309\n"
     ]
    }
   ],
   "source": [
    "get_clf_eval(y_test,dt_pred)"
   ]
  },
  {
   "cell_type": "markdown",
   "metadata": {},
   "source": [
    "5. 로지스틱 회귀 분석 모형을 만들고 분류 성능을 평가하시오."
   ]
  },
  {
   "cell_type": "code",
   "execution_count": 20,
   "metadata": {},
   "outputs": [],
   "source": [
    "from sklearn.linear_model import LogisticRegression"
   ]
  },
  {
   "cell_type": "code",
   "execution_count": 21,
   "metadata": {
    "scrolled": true
   },
   "outputs": [],
   "source": [
    "lr_clf = LogisticRegression()\n",
    "lr_clf.fit(X_train, y_train)\n",
    "lr_pred = lr_clf.predict(X_test)"
   ]
  },
  {
   "cell_type": "code",
   "execution_count": 22,
   "metadata": {},
   "outputs": [
    {
     "name": "stdout",
     "output_type": "stream",
     "text": [
      "confusion matrix\n",
      "[[ 831  844]\n",
      " [ 544 1452]]\n",
      "정확도: 0.6219. 재현율: 0.6219, 정밀도: 0.6219\n"
     ]
    }
   ],
   "source": [
    "get_clf_eval(y_test,lr_pred)"
   ]
  },
  {
   "cell_type": "markdown",
   "metadata": {},
   "source": [
    "6. 랜덤포레스트 모형을 만들고 분류 성능을 평가하시오."
   ]
  },
  {
   "cell_type": "code",
   "execution_count": 23,
   "metadata": {},
   "outputs": [],
   "source": [
    "from sklearn.ensemble import RandomForestClassifier"
   ]
  },
  {
   "cell_type": "code",
   "execution_count": 24,
   "metadata": {
    "scrolled": true
   },
   "outputs": [],
   "source": [
    "rf_clf = RandomForestClassifier(random_state=0)\n",
    "rf_clf.fit(X_train , y_train)\n",
    "rf_pred = rf_clf.predict(X_test)"
   ]
  },
  {
   "cell_type": "code",
   "execution_count": 25,
   "metadata": {},
   "outputs": [
    {
     "name": "stdout",
     "output_type": "stream",
     "text": [
      "confusion matrix\n",
      "[[ 793  882]\n",
      " [ 556 1440]]\n",
      "정확도: 0.6083. 재현율: 0.6083, 정밀도: 0.6083\n"
     ]
    }
   ],
   "source": [
    "get_clf_eval(y_test,rf_pred)"
   ]
  },
  {
   "cell_type": "markdown",
   "metadata": {},
   "source": [
    "7. MLP 모형을 만들고 분류 성능을 평가하시오(단 히든 레이어는 (8,8)로 하시오)."
   ]
  },
  {
   "cell_type": "code",
   "execution_count": 6,
   "metadata": {},
   "outputs": [],
   "source": [
    "from sklearn.neural_network import MLPClassifier"
   ]
  },
  {
   "cell_type": "code",
   "execution_count": 7,
   "metadata": {},
   "outputs": [],
   "source": [
    "mlp_clf = MLPClassifier(hidden_layer_sizes=(8,8), max_iter=300)\n",
    "mlp_clf.fit(X_train , y_train)\n",
    "mlp_pred = mlp_clf.predict(X_test)"
   ]
  },
  {
   "cell_type": "code",
   "execution_count": 8,
   "metadata": {},
   "outputs": [
    {
     "name": "stdout",
     "output_type": "stream",
     "text": [
      "confusion matrix\n",
      "[[ 681  994]\n",
      " [ 401 1595]]\n",
      "정확도: 0.6200. 재현율: 0.6200, 정밀도: 0.6200\n"
     ]
    }
   ],
   "source": [
    "get_clf_eval(y_test,mlp_pred)"
   ]
  }
 ],
 "metadata": {
  "kernelspec": {
   "display_name": "Python 3 (ipykernel)",
   "language": "python",
   "name": "python3"
  },
  "language_info": {
   "codemirror_mode": {
    "name": "ipython",
    "version": 3
   },
   "file_extension": ".py",
   "mimetype": "text/x-python",
   "name": "python",
   "nbconvert_exporter": "python",
   "pygments_lexer": "ipython3",
   "version": "3.8.5"
  }
 },
 "nbformat": 4,
 "nbformat_minor": 4
}
