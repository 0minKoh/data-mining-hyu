{
 "cells": [
  {
   "cell_type": "markdown",
   "metadata": {},
   "source": [
    "# 사이킷런 Lab 1"
   ]
  },
  {
   "cell_type": "raw",
   "metadata": {},
   "source": [
    "1. boston housing 파일을 읽어들여 boston_df 데이터프레임을 만드시오. 단 목표변수의 컬럼명은 medv임."
   ]
  },
  {
   "cell_type": "code",
   "execution_count": 1,
   "metadata": {},
   "outputs": [],
   "source": [
    "import pandas as pd\n",
    "boston_df = pd.read_csv('../../asset/boston_housing.csv')"
   ]
  },
  {
   "cell_type": "raw",
   "metadata": {},
   "source": [
    "2. 훈련데이터와 테스트데이터를 7:3으로 나누시오."
   ]
  },
  {
   "cell_type": "code",
   "execution_count": 2,
   "metadata": {},
   "outputs": [],
   "source": [
    "from sklearn.model_selection import train_test_split\n",
    "X_train, X_test, y_train, y_test = train_test_split(boston_df.drop('medv', axis=1), boston_df['medv'], test_size=0.3, random_state=123)"
   ]
  },
  {
   "cell_type": "raw",
   "metadata": {},
   "source": [
    "3. DecisionTreeRegressor를 생성하여 모형을 만들고, 테스트 집합의 입력변수에 대하여 예측을 수행하시오."
   ]
  },
  {
   "cell_type": "code",
   "execution_count": 3,
   "metadata": {},
   "outputs": [
    {
     "name": "stdout",
     "output_type": "stream",
     "text": [
      "[23.1 23.9 50.  21.9 29.  38.7 21.6  8.3 15.7 28.7 23.1 19.5 15.2 23.8\n",
      " 19.4 20.1 21.2 39.8 16.6 15.7 16.2 50.  28.2 46.7 50.  20.2 13.5 20.9\n",
      " 21.2 25.  27.5 34.9 23.8 20.  20.5 31.5 20.6 16.7 15.2 44.8 32.  21.7\n",
      " 50.  41.7 15.7 23.2 18.2 20.2 13.9 17.8 34.9 22.5 18.2 11.8 22.6 13.4\n",
      " 14.  10.5 34.6 12.5 19.2 20.5 19.4 18.2 22.9 23.2 22.9 23.8 21.7 31.2\n",
      " 20.1 22.2 16.8 23.9 19.  18.2 10.9 16.6 30.8 10.9 31.7  9.7 23.1 22.5\n",
      " 23.7 23.3 14.2 20.9 21.  29.6 11.7 36.4 20.  25.2 34.7 33.1 14.2 30.8\n",
      " 23.8 34.6 24.7 15.  50.  12.1 16.8 32.5 21.2 12.8 20.  32.5 20.2 23.1\n",
      " 14.4 20.2 14.5 23.6 24.5 27.5 19.9 19.9 27.5 31.5 20.   8.4 15.2 22.9\n",
      " 20.  19.  11.8 17.1 19.7 10.9 21.9  5.6 19.4 19.  18.4  5.6 18.4 24.3\n",
      " 22.6 16.8 11.  19.3 50.  12.5 16.8 21.8 22.9 15.3 11.7 21.4]\n"
     ]
    }
   ],
   "source": [
    "from sklearn.tree import DecisionTreeRegressor\n",
    "\n",
    "\n",
    "dtr = DecisionTreeRegressor()\n",
    "dtr.fit(X_train, y_train)\n",
    "dtr_pred = dtr.predict(X_test)\n",
    "print(dtr_pred)"
   ]
  },
  {
   "cell_type": "raw",
   "metadata": {},
   "source": [
    "4. 성능 평가를 위해 MAE, MSE, R2를 구하시오.\n",
    "Hint.\n",
    "from sklearn.metrics import mean_absolute_error,mean_squared_error, r2_score"
   ]
  },
  {
   "cell_type": "code",
   "execution_count": null,
   "metadata": {},
   "outputs": [],
   "source": []
  },
  {
   "cell_type": "raw",
   "metadata": {},
   "source": [
    "5. X축에 참값, Y축에 예측값으로 산점도를 그리시오."
   ]
  }
 ],
 "metadata": {
  "kernelspec": {
   "display_name": "data-analysis",
   "language": "python",
   "name": "python3"
  },
  "language_info": {
   "codemirror_mode": {
    "name": "ipython",
    "version": 3
   },
   "file_extension": ".py",
   "mimetype": "text/x-python",
   "name": "python",
   "nbconvert_exporter": "python",
   "pygments_lexer": "ipython3",
   "version": "3.11.4"
  }
 },
 "nbformat": 4,
 "nbformat_minor": 4
}
