{
 "cells": [
  {
   "cell_type": "markdown",
   "metadata": {},
   "source": [
    "# 사이킷런 Lab 1"
   ]
  },
  {
   "cell_type": "raw",
   "metadata": {},
   "source": [
    "1. boston housing 파일을 읽어들여 boston_df 데이터프레임을 만드시오. 단 목표변수의 컬럼명은 medv임."
   ]
  },
  {
   "cell_type": "code",
   "execution_count": 2,
   "metadata": {},
   "outputs": [],
   "source": [
    "import pandas as pd\n",
    "boston_df = pd.read_csv('../../asset/boston_housing.csv')"
   ]
  },
  {
   "cell_type": "raw",
   "metadata": {},
   "source": [
    "2. 훈련데이터와 테스트데이터를 7:3으로 나누시오."
   ]
  },
  {
   "cell_type": "code",
   "execution_count": 3,
   "metadata": {},
   "outputs": [],
   "source": [
    "from sklearn.model_selection import train_test_split\n",
    "X_train, X_test, y_train, y_test = train_test_split(boston_df.drop('medv', axis=1), boston_df['medv'], test_size=0.3, random_state=123)"
   ]
  },
  {
   "cell_type": "raw",
   "metadata": {},
   "source": [
    "3. DecisionTreeRegressor를 생성하여 모형을 만들고, 테스트 집합의 입력변수에 대하여 예측을 수행하시오."
   ]
  },
  {
   "cell_type": "code",
   "execution_count": 4,
   "metadata": {},
   "outputs": [
    {
     "name": "stdout",
     "output_type": "stream",
     "text": [
      "[27.5 23.9 50.  20.2 31.6 35.2 21.6  8.8 15.7 28.7 24.7 20.6 15.2 23.8\n",
      " 19.7 19.8 21.2 43.5 17.8 15.7 16.2 50.  31.1 46.7 41.3 20.2 13.5 21.7\n",
      " 21.2 24.5 27.5 33.4 20.  20.  20.8 31.5 20.7 16.7 14.5 50.  32.  17.8\n",
      " 50.  41.7 15.7 23.2 18.2 20.8 13.9 17.8 33.4 22.9 18.2 11.3 22.3 13.4\n",
      " 13.8 10.5 34.6 12.1 19.2 20.6 19.  18.2 22.9 23.2 23.2 20.  21.7 29.6\n",
      " 20.1 22.2 16.8 23.9 19.4 18.2 10.9 17.8 33.4 10.9 31.7  9.7 23.1 22.5\n",
      " 21.7 22.6 14.9 20.9 21.1 33.1 11.7 36.4 20.  25.2 33.  33.1 14.9 33.1\n",
      " 23.8 34.6 24.7 15.  50.  12.5 16.2 32.5 21.2 12.1 20.  32.  20.8 23.1\n",
      " 14.  20.8 14.5 23.6 24.8 27.5 19.9 22.5 23.1 31.5 24.4  8.8 14.5 22.9\n",
      " 24.4 19.  11.8 17.7 19.7 10.9 21.9  7.2 19.  19.  18.4  7.2 18.4 20.\n",
      " 22.3 16.2  9.5 18.6 41.3 12.1 17.7 21.8 22.6 15.3 11.7 21.4]\n"
     ]
    }
   ],
   "source": [
    "from sklearn.tree import DecisionTreeRegressor\n",
    "\n",
    "\n",
    "dtr = DecisionTreeRegressor()\n",
    "dtr.fit(X_train, y_train)\n",
    "dtr_pred = dtr.predict(X_test)\n",
    "print(dtr_pred)"
   ]
  },
  {
   "cell_type": "raw",
   "metadata": {},
   "source": [
    "4. 성능 평가를 위해 MAE, MSE, R2를 구하시오.\n",
    "Hint.\n",
    "from sklearn.metrics import mean_absolute_error,mean_squared_error, r2_score"
   ]
  },
  {
   "cell_type": "code",
   "execution_count": 5,
   "metadata": {},
   "outputs": [
    {
     "name": "stdout",
     "output_type": "stream",
     "text": [
      "\n",
      "MAE: 2.775657894736842\n",
      "MSE: 4.180806708859202\n",
      "R2: 0.7869982650701788\n",
      "\n"
     ]
    }
   ],
   "source": [
    "from sklearn.metrics import mean_absolute_error, root_mean_squared_error, r2_score\n",
    "\n",
    "print(f\"\"\"\n",
    "MAE: {mean_absolute_error(dtr_pred, y_test)}\n",
    "MSE: {root_mean_squared_error(dtr_pred, y_test)}\n",
    "R2: {r2_score(dtr_pred, y_test)}\n",
    "\"\"\")"
   ]
  },
  {
   "cell_type": "raw",
   "metadata": {},
   "source": [
    "5. X축에 참값, Y축에 예측값으로 산점도를 그리시오."
   ]
  },
  {
   "cell_type": "code",
   "execution_count": 10,
   "metadata": {},
   "outputs": [
    {
     "data": {
      "image/png": "[encoded data removed]",
      "text/plain": [
       "<Figure size 640x480 with 1 Axes>"
      ]
     },
     "metadata": {},
     "output_type": "display_data"
    }
   ],
   "source": [
    "import seaborn as sns\n",
    "import matplotlib.pyplot as plt\n",
    "# sns.scatterplot(x=y_test, y=dtr_pred)\n",
    "plt.scatter(x=y_test, y=dtr_pred)\n",
    "plt.xlabel('Test')\n",
    "plt.ylabel('Pred')\n",
    "plt.show()"
   ]
  }
 ],
 "metadata": {
  "kernelspec": {
   "display_name": "data-analysis",
   "language": "python",
   "name": "python3"
  },
  "language_info": {
   "codemirror_mode": {
    "name": "ipython",
    "version": 3
   },
   "file_extension": ".py",
   "mimetype": "text/x-python",
   "name": "python",
   "nbconvert_exporter": "python",
   "pygments_lexer": "ipython3",
   "version": "3.11.4"
  }
 },
 "nbformat": 4,
 "nbformat_minor": 4
}
