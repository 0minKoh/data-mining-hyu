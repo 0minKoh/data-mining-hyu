{
 "cells": [
  {
   "cell_type": "markdown",
   "metadata": {},
   "source": [
    "# 모델생성과 성능평가 Lab"
   ]
  },
  {
   "cell_type": "code",
   "execution_count": 1,
   "metadata": {},
   "outputs": [],
   "source": [
    "import numpy as np \n",
    "import pandas as pd \n",
    "import os"
   ]
  },
  {
   "cell_type": "markdown",
   "metadata": {},
   "source": [
    "1. customer_scaled.csv 파일을 읽어서 customer_df에 저장하시오. 저장 후에 데이터의 특성을 탐색하시오."
   ]
  },
  {
   "cell_type": "code",
   "execution_count": 3,
   "metadata": {},
   "outputs": [
    {
     "data": {
      "text/html": [
       "<div>\n",
       "<style scoped>\n",
       "    .dataframe tbody tr th:only-of-type {\n",
       "        vertical-align: middle;\n",
       "    }\n",
       "\n",
       "    .dataframe tbody tr th {\n",
       "        vertical-align: top;\n",
       "    }\n",
       "\n",
       "    .dataframe thead th {\n",
       "        text-align: right;\n",
       "    }\n",
       "</style>\n",
       "<table border=\"1\" class=\"dataframe\">\n",
       "  <thead>\n",
       "    <tr style=\"text-align: right;\">\n",
       "      <th></th>\n",
       "      <th>Gender</th>\n",
       "      <th>MaritalStatus</th>\n",
       "      <th>HomeOwnerFlag</th>\n",
       "      <th>NumberCarsOwned</th>\n",
       "      <th>NumberChildrenAtHome</th>\n",
       "      <th>TotalChildren</th>\n",
       "      <th>YearlyIncome</th>\n",
       "      <th>BikeBuyer</th>\n",
       "      <th>AvgMonthSpend</th>\n",
       "      <th>Age</th>\n",
       "      <th>...</th>\n",
       "      <th>Education_Bachelors</th>\n",
       "      <th>Education_Graduate Degree</th>\n",
       "      <th>Education_High School</th>\n",
       "      <th>Education_Partial College</th>\n",
       "      <th>Education_Partial High School</th>\n",
       "      <th>Occupation_Clerical</th>\n",
       "      <th>Occupation_Management</th>\n",
       "      <th>Occupation_Manual</th>\n",
       "      <th>Occupation_Professional</th>\n",
       "      <th>Occupation_Skilled Manual</th>\n",
       "    </tr>\n",
       "  </thead>\n",
       "  <tbody>\n",
       "    <tr>\n",
       "      <th>0</th>\n",
       "      <td>0.0</td>\n",
       "      <td>1.0</td>\n",
       "      <td>1.0</td>\n",
       "      <td>0.6</td>\n",
       "      <td>0.000000</td>\n",
       "      <td>0.333333</td>\n",
       "      <td>0.496842</td>\n",
       "      <td>1.0</td>\n",
       "      <td>0.324210</td>\n",
       "      <td>0.185714</td>\n",
       "      <td>...</td>\n",
       "      <td>1.0</td>\n",
       "      <td>0.0</td>\n",
       "      <td>0.0</td>\n",
       "      <td>0.0</td>\n",
       "      <td>0.0</td>\n",
       "      <td>1.0</td>\n",
       "      <td>0.0</td>\n",
       "      <td>0.0</td>\n",
       "      <td>0.0</td>\n",
       "      <td>0.0</td>\n",
       "    </tr>\n",
       "    <tr>\n",
       "      <th>1</th>\n",
       "      <td>0.0</td>\n",
       "      <td>1.0</td>\n",
       "      <td>1.0</td>\n",
       "      <td>0.4</td>\n",
       "      <td>0.333333</td>\n",
       "      <td>0.666667</td>\n",
       "      <td>0.489453</td>\n",
       "      <td>1.0</td>\n",
       "      <td>0.425201</td>\n",
       "      <td>0.400000</td>\n",
       "      <td>...</td>\n",
       "      <td>0.0</td>\n",
       "      <td>0.0</td>\n",
       "      <td>0.0</td>\n",
       "      <td>1.0</td>\n",
       "      <td>0.0</td>\n",
       "      <td>1.0</td>\n",
       "      <td>0.0</td>\n",
       "      <td>0.0</td>\n",
       "      <td>0.0</td>\n",
       "      <td>0.0</td>\n",
       "    </tr>\n",
       "    <tr>\n",
       "      <th>2</th>\n",
       "      <td>1.0</td>\n",
       "      <td>0.0</td>\n",
       "      <td>0.0</td>\n",
       "      <td>0.6</td>\n",
       "      <td>0.000000</td>\n",
       "      <td>0.000000</td>\n",
       "      <td>0.536172</td>\n",
       "      <td>1.0</td>\n",
       "      <td>0.470977</td>\n",
       "      <td>0.214286</td>\n",
       "      <td>...</td>\n",
       "      <td>1.0</td>\n",
       "      <td>0.0</td>\n",
       "      <td>0.0</td>\n",
       "      <td>0.0</td>\n",
       "      <td>0.0</td>\n",
       "      <td>1.0</td>\n",
       "      <td>0.0</td>\n",
       "      <td>0.0</td>\n",
       "      <td>0.0</td>\n",
       "      <td>0.0</td>\n",
       "    </tr>\n",
       "    <tr>\n",
       "      <th>3</th>\n",
       "      <td>0.0</td>\n",
       "      <td>1.0</td>\n",
       "      <td>1.0</td>\n",
       "      <td>0.4</td>\n",
       "      <td>0.333333</td>\n",
       "      <td>0.666667</td>\n",
       "      <td>0.317083</td>\n",
       "      <td>1.0</td>\n",
       "      <td>0.605474</td>\n",
       "      <td>0.328571</td>\n",
       "      <td>...</td>\n",
       "      <td>0.0</td>\n",
       "      <td>0.0</td>\n",
       "      <td>0.0</td>\n",
       "      <td>1.0</td>\n",
       "      <td>0.0</td>\n",
       "      <td>0.0</td>\n",
       "      <td>0.0</td>\n",
       "      <td>0.0</td>\n",
       "      <td>0.0</td>\n",
       "      <td>1.0</td>\n",
       "    </tr>\n",
       "    <tr>\n",
       "      <th>4</th>\n",
       "      <td>0.0</td>\n",
       "      <td>0.0</td>\n",
       "      <td>1.0</td>\n",
       "      <td>0.2</td>\n",
       "      <td>0.000000</td>\n",
       "      <td>0.000000</td>\n",
       "      <td>0.231958</td>\n",
       "      <td>1.0</td>\n",
       "      <td>0.533742</td>\n",
       "      <td>0.357143</td>\n",
       "      <td>...</td>\n",
       "      <td>0.0</td>\n",
       "      <td>0.0</td>\n",
       "      <td>0.0</td>\n",
       "      <td>1.0</td>\n",
       "      <td>0.0</td>\n",
       "      <td>0.0</td>\n",
       "      <td>0.0</td>\n",
       "      <td>0.0</td>\n",
       "      <td>0.0</td>\n",
       "      <td>1.0</td>\n",
       "    </tr>\n",
       "  </tbody>\n",
       "</table>\n",
       "<p>5 rows × 26 columns</p>\n",
       "</div>"
      ],
      "text/plain": [
       "   Gender  MaritalStatus  HomeOwnerFlag  NumberCarsOwned  \\\n",
       "0     0.0            1.0            1.0              0.6   \n",
       "1     0.0            1.0            1.0              0.4   \n",
       "2     1.0            0.0            0.0              0.6   \n",
       "3     0.0            1.0            1.0              0.4   \n",
       "4     0.0            0.0            1.0              0.2   \n",
       "\n",
       "   NumberChildrenAtHome  TotalChildren  YearlyIncome  BikeBuyer  \\\n",
       "0              0.000000       0.333333      0.496842        1.0   \n",
       "1              0.333333       0.666667      0.489453        1.0   \n",
       "2              0.000000       0.000000      0.536172        1.0   \n",
       "3              0.333333       0.666667      0.317083        1.0   \n",
       "4              0.000000       0.000000      0.231958        1.0   \n",
       "\n",
       "   AvgMonthSpend       Age  ...  Education_Bachelors  \\\n",
       "0       0.324210  0.185714  ...                  1.0   \n",
       "1       0.425201  0.400000  ...                  0.0   \n",
       "2       0.470977  0.214286  ...                  1.0   \n",
       "3       0.605474  0.328571  ...                  0.0   \n",
       "4       0.533742  0.357143  ...                  0.0   \n",
       "\n",
       "   Education_Graduate Degree  Education_High School  \\\n",
       "0                        0.0                    0.0   \n",
       "1                        0.0                    0.0   \n",
       "2                        0.0                    0.0   \n",
       "3                        0.0                    0.0   \n",
       "4                        0.0                    0.0   \n",
       "\n",
       "   Education_Partial College  Education_Partial High School  \\\n",
       "0                        0.0                            0.0   \n",
       "1                        1.0                            0.0   \n",
       "2                        0.0                            0.0   \n",
       "3                        1.0                            0.0   \n",
       "4                        1.0                            0.0   \n",
       "\n",
       "   Occupation_Clerical  Occupation_Management  Occupation_Manual  \\\n",
       "0                  1.0                    0.0                0.0   \n",
       "1                  1.0                    0.0                0.0   \n",
       "2                  1.0                    0.0                0.0   \n",
       "3                  0.0                    0.0                0.0   \n",
       "4                  0.0                    0.0                0.0   \n",
       "\n",
       "   Occupation_Professional  Occupation_Skilled Manual  \n",
       "0                      0.0                        0.0  \n",
       "1                      0.0                        0.0  \n",
       "2                      0.0                        0.0  \n",
       "3                      0.0                        1.0  \n",
       "4                      0.0                        1.0  \n",
       "\n",
       "[5 rows x 26 columns]"
      ]
     },
     "execution_count": 3,
     "metadata": {},
     "output_type": "execute_result"
    }
   ],
   "source": [
    "customer_df = pd.read_csv('../../asset/customer_scaled.csv')\n",
    "customer_df.head()"
   ]
  },
  {
   "cell_type": "markdown",
   "metadata": {},
   "source": [
    "!! 2. BikeBuyer를 제외한 컬럼으로 입력변수들로, BikeBuyer를 출력변수로 하고, 훈련 데이터와 테스트 데이터를 8:2로 분할하시오."
   ]
  },
  {
   "cell_type": "code",
   "execution_count": 8,
   "metadata": {},
   "outputs": [],
   "source": [
    "from sklearn.model_selection import train_test_split\n",
    "\n",
    "X_train, X_test, y_train, y_test = train_test_split(customer_df.drop('BikeBuyer', axis=1), customer_df['BikeBuyer'], test_size=0.2, random_state=123)"
   ]
  },
  {
   "cell_type": "markdown",
   "metadata": {},
   "source": [
    "3. 분류 모델의 성능을 출력하는 함수 get_clf_eval()을 작성하시오."
   ]
  },
  {
   "cell_type": "code",
   "execution_count": 5,
   "metadata": {},
   "outputs": [],
   "source": [
    "from sklearn.metrics import accuracy_score, precision_score, recall_score, f1_score\n",
    "\n",
    "def get_clf_eval(pred_param, y_test_param):\n",
    "  ac_score = accuracy_score(pred_param, y_test_param)\n",
    "  prec_score = precision_score(pred_param, y_test_param)\n",
    "  rec_score = recall_score(pred_param, y_test_param)\n",
    "  f_score = f1_score(pred_param, y_test_param)\n",
    "\n",
    "  print(\"Accuracy: {0:.4f} \\n Precision: {1:.4f} \\n Recall: {2:.4f} \\n f1: {3:.4f}\".format(ac_score, prec_score, rec_score, f_score))"
   ]
  },
  {
   "cell_type": "markdown",
   "metadata": {},
   "source": [
    "4. 의사결정나무를 만들고 분류 성능을 평가하시오."
   ]
  },
  {
   "cell_type": "code",
   "execution_count": 9,
   "metadata": {},
   "outputs": [
    {
     "name": "stdout",
     "output_type": "stream",
     "text": [
      "Accuracy: 0.5413 \n",
      " Precision: 0.5796 \n",
      " Recall: 0.5796 \n",
      " f1: 0.5796\n"
     ]
    }
   ],
   "source": [
    "from sklearn.tree import DecisionTreeClassifier\n",
    "\n",
    "dt_clf = DecisionTreeClassifier()\n",
    "dt_clf.fit(X_train, y_train)\n",
    "dt_pred = dt_clf.predict(X_test)\n",
    "\n",
    "get_clf_eval(dt_pred, y_test)"
   ]
  },
  {
   "cell_type": "markdown",
   "metadata": {},
   "source": [
    "5. 로지스틱 회귀 분석 모형을 만들고 분류 성능을 평가하시오."
   ]
  },
  {
   "cell_type": "code",
   "execution_count": 11,
   "metadata": {},
   "outputs": [
    {
     "name": "stdout",
     "output_type": "stream",
     "text": [
      "Accuracy: 0.6214 \n",
      " Precision: 0.7389 \n",
      " Recall: 0.6306 \n",
      " f1: 0.6805\n"
     ]
    }
   ],
   "source": [
    "from sklearn.linear_model import LogisticRegression\n",
    "\n",
    "lr = LogisticRegression()\n",
    "lr.fit(X_train, y_train)\n",
    "lr_pred = lr.predict(X_test)\n",
    "\n",
    "get_clf_eval(lr_pred, y_test)"
   ]
  },
  {
   "cell_type": "markdown",
   "metadata": {},
   "source": [
    "6. 랜덤포레스트 모형을 만들고 분류 성능을 평가하시오."
   ]
  },
  {
   "cell_type": "code",
   "execution_count": 13,
   "metadata": {},
   "outputs": [
    {
     "name": "stdout",
     "output_type": "stream",
     "text": [
      "Accuracy: 0.6214 \n",
      " Precision: 0.7389 \n",
      " Recall: 0.6306 \n",
      " f1: 0.6805\n"
     ]
    }
   ],
   "source": [
    "from sklearn.ensemble import RandomForestClassifier\n",
    "\n",
    "rf_clf = LogisticRegression()\n",
    "rf_clf.fit(X_train, y_train)\n",
    "rf_pred = rf_clf.predict(X_test)\n",
    "\n",
    "get_clf_eval(rf_pred, y_test)"
   ]
  },
  {
   "cell_type": "markdown",
   "metadata": {},
   "source": [
    "7. MLP 모형을 만들고 분류 성능을 평가하시오(단 히든 레이어는 (8,8)로 하시오)."
   ]
  },
  {
   "cell_type": "code",
   "execution_count": 14,
   "metadata": {},
   "outputs": [
    {
     "name": "stdout",
     "output_type": "stream",
     "text": [
      "Accuracy: 0.6214 \n",
      " Precision: 0.7389 \n",
      " Recall: 0.6306 \n",
      " f1: 0.6805\n"
     ]
    }
   ],
   "source": [
    "from sklearn.neural_network import MLPClassifier\n",
    "\n",
    "MLP_clf = LogisticRegression()\n",
    "MLP_clf.fit(X_train, y_train)\n",
    "MLP_pred = MLP_clf.predict(X_test)\n",
    "\n",
    "get_clf_eval(MLP_pred, y_test)"
   ]
  }
 ],
 "metadata": {
  "kernelspec": {
   "display_name": "data-analysis",
   "language": "python",
   "name": "python3"
  },
  "language_info": {
   "codemirror_mode": {
    "name": "ipython",
    "version": 3
   },
   "file_extension": ".py",
   "mimetype": "text/x-python",
   "name": "python",
   "nbconvert_exporter": "python",
   "pygments_lexer": "ipython3",
   "version": "3.11.4"
  }
 },
 "nbformat": 4,
 "nbformat_minor": 4
}
