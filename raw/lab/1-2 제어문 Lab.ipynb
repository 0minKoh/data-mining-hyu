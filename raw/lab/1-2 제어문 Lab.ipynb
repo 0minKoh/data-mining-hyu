{
 "cells": [
  {
   "cell_type": "markdown",
   "metadata": {},
   "source": [
    "# 1-2 제어문 Lab"
   ]
  },
  {
   "cell_type": "code",
   "execution_count": null,
   "metadata": {},
   "outputs": [],
   "source": [
    "1. “*”를 다음과 같이 출력하는 프로그램을 for문을 이용하여 작성하십시오.\n",
    "**********\n",
    "*********\n",
    "********\n",
    "*******\n",
    "******\n",
    "*****\n",
    "****\n",
    "***\n",
    "**\n",
    "*"
   ]
  },
  {
   "cell_type": "code",
   "execution_count": null,
   "metadata": {},
   "outputs": [],
   "source": [
    "2. 1번과 같이 출력하는 프로그램을 while문을 이용하여 작성하십시오."
   ]
  },
  {
   "cell_type": "code",
   "execution_count": null,
   "metadata": {},
   "outputs": [],
   "source": [
    "3. 구구단을 출력하는 프로그램을 작성하시오.\n",
    "2단부터 9단까지 출력하도록 작성하시오.\n",
    "\n",
    "2 * 1 = 2 \n",
    "2 * 2 = 4 \n",
    "2 * 3 = 6 \n",
    "2 * 4 = 8 \n",
    "2 * 5 = 10 \n",
    "2 * 6 = 12 \n",
    "2 * 7 = 14\n",
    "2 * 8 = 16\n",
    "2 * 9 = 18 \n",
    "---------- \n",
    "3 * 1 = 3 \n",
    "3 * 2 = 6\n",
    "……\n",
    "9 * 8 = 72\n",
    "9 * 9 = 81\n",
    "----------"
   ]
  },
  {
   "cell_type": "markdown",
   "metadata": {},
   "source": [
    "4. while문을 이용하여 3번과 같이 구구단을 다음과 같이 출력하는 프로그램을 작성하십시오.\n",
    "2단부터 9단까지 출력하도록 작성하십시오."
   ]
  }
 ],
 "metadata": {
  "kernelspec": {
   "display_name": "Python 3 (ipykernel)",
   "language": "python",
   "name": "python3"
  },
  "language_info": {
   "codemirror_mode": {
    "name": "ipython",
    "version": 3
   },
   "file_extension": ".py",
   "mimetype": "text/x-python",
   "name": "python",
   "nbconvert_exporter": "python",
   "pygments_lexer": "ipython3",
   "version": "3.8.5"
  }
 },
 "nbformat": 4,
 "nbformat_minor": 4
}
