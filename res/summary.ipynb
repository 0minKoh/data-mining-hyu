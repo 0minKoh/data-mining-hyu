{
 "cells": [
  {
   "cell_type": "code",
   "execution_count": null,
   "metadata": {},
   "outputs": [],
   "source": []
  },
  {
   "cell_type": "markdown",
   "metadata": {},
   "source": [
    "# 함수와 클래스"
   ]
  },
  {
   "cell_type": "code",
   "execution_count": null,
   "metadata": {},
   "outputs": [],
   "source": [
    "# 클래스를 정의할 때, __str__(self) 메소드의 사용방법\n",
    "def __str__(self):\n",
    "  return(\"텍스트를 리턴합니다.\")\n",
    "\n",
    "# 부모 클래스의 메소드는 상속받을 수 있으나, 변수는 상속 불가 직접 정의해야 함\n",
    "class Rectangle():\n",
    "  # ...\n",
    "  def area(self):\n",
    "    return (self._width * self._height)\n",
    "\n",
    "class Square(Rectangle):\n",
    "  def __init__(self, side):\n",
    "    self._side = side\n",
    "    self._width = side\n",
    "    self._height = side\n",
    "s1 = Square(7)\n",
    "print(s1.area()) # 부모 요소에 .area() 메소드가 있음"
   ]
  },
  {
   "cell_type": "markdown",
   "metadata": {},
   "source": [
    "# 넘파이"
   ]
  },
  {
   "cell_type": "code",
   "execution_count": null,
   "metadata": {},
   "outputs": [],
   "source": [
    "# range 객체와 리스트는 다르다!\n",
    "a = list(range(1, 101))\n",
    "\n",
    "# 바로 array 생성하기 (리스트와 유사)\n",
    "import numpy as np\n",
    "a = np.arange(1, 101)\n",
    "\n",
    "# array.reshape()는 inplace가 아니다!\n",
    "a\n",
    "nd_a = a.reshape(10, 10)"
   ]
  }
 ],
 "metadata": {
  "kernelspec": {
   "display_name": "data-analysis",
   "language": "python",
   "name": "python3"
  },
  "language_info": {
   "name": "python",
   "version": "3.11.4"
  }
 },
 "nbformat": 4,
 "nbformat_minor": 2
}
