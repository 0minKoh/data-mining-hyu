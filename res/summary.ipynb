{
 "cells": [
  {
   "cell_type": "code",
   "execution_count": null,
   "metadata": {},
   "outputs": [],
   "source": []
  },
  {
   "cell_type": "markdown",
   "metadata": {},
   "source": [
    "# 함수와 클래스"
   ]
  },
  {
   "cell_type": "code",
   "execution_count": null,
   "metadata": {},
   "outputs": [],
   "source": [
    "# 클래스를 정의할 때, __str__(self) 메소드의 사용방법\n",
    "def __str__(self):\n",
    "  return(\"텍스트를 리턴합니다.\")\n",
    "\n",
    "# 부모 클래스의 메소드는 상속받을 수 있으나, 변수는 상속 불가 직접 정의해야 함\n",
    "class Rectangle():\n",
    "  # ...\n",
    "  def area(self):\n",
    "    return (self._width * self._height)\n",
    "\n",
    "class Square(Rectangle):\n",
    "  def __init__(self, side):\n",
    "    self._side = side\n",
    "    self._width = side\n",
    "    self._height = side\n",
    "s1 = Square(7)\n",
    "print(s1.area()) # 부모 요소에 .area() 메소드가 있음"
   ]
  },
  {
   "cell_type": "markdown",
   "metadata": {},
   "source": [
    "# 넘파이"
   ]
  },
  {
   "cell_type": "code",
   "execution_count": null,
   "metadata": {},
   "outputs": [],
   "source": [
    "# range 객체와 리스트는 다르다!\n",
    "a = list(range(1, 101))\n",
    "\n",
    "# 바로 array 생성하기 (리스트와 유사)\n",
    "import numpy as np\n",
    "a = np.arange(1, 101)\n",
    "\n",
    "# array.reshape()는 inplace가 아니다!\n",
    "a\n",
    "nd_a = a.reshape(10, 10)"
   ]
  },
  {
   "cell_type": "markdown",
   "metadata": {},
   "source": [
    "# 판다스"
   ]
  },
  {
   "cell_type": "code",
   "execution_count": null,
   "metadata": {},
   "outputs": [],
   "source": [
    "import pandas as pd\n",
    "customer_df = pd.read_csv('')\n",
    "\n",
    "# iloc은 '이름'으로 선택할 수 없고 무조건 index (위치)로 위치를 선택하여야 한다!\n",
    "customer_df.iloc[:10, :5]\n",
    "\n",
    "# groupby(by=칼럼이름)\n",
    "customer_df.groupby(by='Gender')['YearlyIncome'].mean()\n",
    "\n",
    "# 결측치 칼럼 탐색\n",
    "customer_df.isnull().sum() ## 0이 아닌 열들이 결측치 존재하는 Row 수\n",
    "\n",
    "# apply(lambda x:)\n",
    "customer_df['IncomeLevel'] = customer_df['YearlyIncome'].apply(lambda x: 'Low' if x < 50000 else 'Middle' if x < 100000 else 'High')\n",
    "\n",
    "\n"
   ]
  }
 ],
 "metadata": {
  "kernelspec": {
   "display_name": "data-analysis",
   "language": "python",
   "name": "python3"
  },
  "language_info": {
   "name": "python",
   "version": "3.11.4"
  }
 },
 "nbformat": 4,
 "nbformat_minor": 2
}
