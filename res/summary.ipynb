{
 "cells": [
  {
   "cell_type": "code",
   "execution_count": null,
   "metadata": {},
   "outputs": [],
   "source": []
  },
  {
   "cell_type": "markdown",
   "metadata": {},
   "source": [
    "# 함수와 클래스"
   ]
  },
  {
   "cell_type": "code",
   "execution_count": null,
   "metadata": {},
   "outputs": [],
   "source": [
    "# 클래스를 정의할 때, __str__(self) 메소드의 사용방법\n",
    "def __str__(self):\n",
    "  return(\"텍스트를 리턴합니다.\")\n",
    "\n",
    "# 부모 클래스의 메소드는 상속받을 수 있으나, 변수는 상속 불가 직접 정의해야 함\n",
    "class Rectangle():\n",
    "  # ...\n",
    "  def area(self):\n",
    "    return (self._width * self._height)\n",
    "\n",
    "class Square(Rectangle):\n",
    "  def __init__(self, side):\n",
    "    self._side = side\n",
    "    self._width = side\n",
    "    self._height = side\n",
    "s1 = Square(7)\n",
    "print(s1.area()) # 부모 요소에 .area() 메소드가 있음"
   ]
  }
 ],
 "metadata": {
  "language_info": {
   "name": "python"
  }
 },
 "nbformat": 4,
 "nbformat_minor": 2
}
