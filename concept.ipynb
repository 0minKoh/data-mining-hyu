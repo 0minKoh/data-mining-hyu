{
 "cells": [
  {
   "cell_type": "code",
   "execution_count": null,
   "metadata": {},
   "outputs": [],
   "source": [
    "# 선순환 사이클의 4단계\n",
    "# 1. 경영의 문제를 포착한다.\n",
    "# 2. 데이터마이닝을 통해 데이터를 행동 가능한 정보로 전환한다.\n",
    "# 3. 정보에 따라 행동한다.\n",
    "# 4. 결과를 측정한다. \n",
    "\n",
    "# 데이터 마이닝의 선순환 사이클이란?"
   ]
  },
  {
   "cell_type": "code",
   "execution_count": null,
   "metadata": {},
   "outputs": [],
   "source": [
    "# 데이터마이닝 프로세스와 전형적인 업무 운영 프로세스와의 차이점에 대하여 설명하시오."
   ]
  },
  {
   "cell_type": "code",
   "execution_count": null,
   "metadata": {},
   "outputs": [],
   "source": [
    "# 데이터마이닝 작업 중에 '분류'와 '회귀'의 유사점과 차이점에 대하여 설명하시오. 또 각각의 예를 하나씩 제시하시오."
   ]
  },
  {
   "cell_type": "code",
   "execution_count": null,
   "metadata": {},
   "outputs": [],
   "source": [
    "# 프로파일링 모형과 예측 모형의 공통점과 차이점에 대하여 설명하시오."
   ]
  },
  {
   "cell_type": "code",
   "execution_count": null,
   "metadata": {},
   "outputs": [],
   "source": [
    "# 과적합이 무엇인지 설명하시오. 과적합을 줄이기 위해서 의사결정나무 생성 알고리즘에서는 어떻게 하는지, 인공신경망 모델 학습 시에는 어떻게 하는지 설명하시오."
   ]
  },
  {
   "cell_type": "code",
   "execution_count": null,
   "metadata": {},
   "outputs": [],
   "source": [
    "# 데이터마이닝을 위한 데이터 집합을 훈련 집합, 검증 집합, 테스트 집합으로 분할하는데, 각각의 용도에 대하여 설명하시오."
   ]
  },
  {
   "cell_type": "code",
   "execution_count": null,
   "metadata": {},
   "outputs": [],
   "source": [
    "# 5장의 데이터마이닝 방법론 중 5단계에서 깨끗하지 않은 데이터를 수정해야 할 문제 중 3가지를 설명하시오."
   ]
  },
  {
   "cell_type": "code",
   "execution_count": null,
   "metadata": {},
   "outputs": [],
   "source": [
    "# 회귀 모델의 성능을 평가하는 척도들에 대하여 설명하시오."
   ]
  },
  {
   "cell_type": "code",
   "execution_count": null,
   "metadata": {},
   "outputs": [],
   "source": [
    "# 나이브베이지안 모형과 테이블참조모형의 장단점을 비교하시오."
   ]
  },
  {
   "cell_type": "code",
   "execution_count": null,
   "metadata": {},
   "outputs": [],
   "source": [
    "# 오즈 계산"
   ]
  },
  {
   "cell_type": "code",
   "execution_count": null,
   "metadata": {},
   "outputs": [],
   "source": [
    "# 선형회귀분석과 로지스틱회귀분석의 차이에 대하여 설명하시오."
   ]
  },
  {
   "cell_type": "code",
   "execution_count": null,
   "metadata": {},
   "outputs": [],
   "source": [
    "# 의사결정나무에서 목표변수가 범주형인 경우 사용하는 순수도 척도들은 어떤 것이 있는지 설명하시오. 또 목표변수가 연속형인 경우 사용하는 순수도 척도들은 무엇인지 적으시오."
   ]
  },
  {
   "cell_type": "code",
   "execution_count": null,
   "metadata": {},
   "outputs": [],
   "source": [
    "# CART의 가지치기와 C5.0 가지치기의 차이점에 대하여 설명하시오."
   ]
  },
  {
   "cell_type": "code",
   "execution_count": null,
   "metadata": {},
   "outputs": [],
   "source": [
    "# 배깅이 무엇인지 설명하시오. 배깅 방법을 사용하는 알고리즘의 예를 하나 제시하시오."
   ]
  },
  {
   "cell_type": "code",
   "execution_count": null,
   "metadata": {},
   "outputs": [],
   "source": [
    "# 인공신경망에서 활성함수에 대하여 설명하시오. 또 활성함수로 S-모양 함수를 사용하는 이유를 설명하시오."
   ]
  },
  {
   "cell_type": "code",
   "execution_count": null,
   "metadata": {},
   "outputs": [],
   "source": [
    "# 인공신경망 구조에서 은닉층의 노드 수가 늘어나면 어떤 장점이 있고, 또 어떤 위험이 있는지 설명하시오."
   ]
  },
  {
   "cell_type": "code",
   "execution_count": null,
   "metadata": {},
   "outputs": [],
   "source": [
    "# 인공신경망의 역전파 알고리즘에 대하여 설명하시오."
   ]
  },
  {
   "cell_type": "code",
   "execution_count": null,
   "metadata": {},
   "outputs": [],
   "source": [
    "# 인공신경망의 모멘텀과 학습률에 대하여 설명하시오."
   ]
  }
 ],
 "metadata": {
  "language_info": {
   "name": "python"
  }
 },
 "nbformat": 4,
 "nbformat_minor": 2
}
