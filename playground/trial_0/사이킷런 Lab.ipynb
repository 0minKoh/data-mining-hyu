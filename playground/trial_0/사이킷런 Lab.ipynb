{
 "cells": [
  {
   "cell_type": "markdown",
   "metadata": {},
   "source": [
    "# 사이킷런 Lab 1"
   ]
  },
  {
   "cell_type": "raw",
   "metadata": {},
   "source": [
    "1. boston housing 파일을 읽어들여 boston_df 데이터프레임을 만드시오. 단 목표변수의 컬럼명은 medv임."
   ]
  },
  {
   "cell_type": "raw",
   "metadata": {},
   "source": [
    "2. 훈련데이터와 테스트데이터를 7:3으로 나누시오."
   ]
  },
  {
   "cell_type": "raw",
   "metadata": {},
   "source": [
    "3. DecisionTreeRegressor를 생성하여 모형을 만들고, 테스트 집합의 입력변수에 대하여 예측을 수행하시오."
   ]
  },
  {
   "cell_type": "raw",
   "metadata": {},
   "source": [
    "4. 성능 평가를 위해 MAE, MSE, R2를 구하시오.\n",
    "Hint.\n",
    "from sklearn.metrics import mean_absolute_error,mean_squared_error, r2_score"
   ]
  },
  {
   "cell_type": "raw",
   "metadata": {},
   "source": [
    "5. X축에 참값, Y축에 예측값으로 산점도를 그리시오."
   ]
  }
 ],
 "metadata": {
  "kernelspec": {
   "display_name": "Python 3 (ipykernel)",
   "language": "python",
   "name": "python3"
  },
  "language_info": {
   "codemirror_mode": {
    "name": "ipython",
    "version": 3
   },
   "file_extension": ".py",
   "mimetype": "text/x-python",
   "name": "python",
   "nbconvert_exporter": "python",
   "pygments_lexer": "ipython3",
   "version": "3.8.5"
  }
 },
 "nbformat": 4,
 "nbformat_minor": 4
}
