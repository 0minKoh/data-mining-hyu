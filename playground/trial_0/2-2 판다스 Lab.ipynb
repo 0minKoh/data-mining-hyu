{
 "cells": [
  {
   "cell_type": "markdown",
   "metadata": {},
   "source": [
    "# 판다스 Lab"
   ]
  },
  {
   "cell_type": "raw",
   "metadata": {},
   "source": [
    "1. CustomersSales.csv 파일을 읽어서 customer_df라는 데이터프레임을 생성하시오."
   ]
  },
  {
   "cell_type": "raw",
   "metadata": {},
   "source": [
    "2. customer_df의 행의 수와 열의 수를 확인하시오."
   ]
  },
  {
   "cell_type": "raw",
   "metadata": {},
   "source": [
    "3. 고객의 남성과 여성의 수를 구하시오. "
   ]
  },
  {
   "cell_type": "raw",
   "metadata": {},
   "source": [
    "4. 성별이 남성(M)인 고객들만 선택하여 고객ID(CustomerID)와 성명(FirstName, MiddleName, LastName)을 출력하시오([] 연산자를 사용)."
   ]
  },
  {
   "cell_type": "raw",
   "metadata": {},
   "source": [
    "5. 성별이 남성(M)인 고객들만 선택하여 고객ID(CustomerID)와 성명(FirstName, MiddleName, LastName)을 출력하시오(loc 연산자를 사용)."
   ]
  },
  {
   "cell_type": "raw",
   "metadata": {},
   "source": [
    "6. 성별이 남성이면서 연간수입(YearlyIncome)이 10만불 이상인 고객들만 출력하시오."
   ]
  },
  {
   "cell_type": "raw",
   "metadata": {},
   "source": [
    "7. iloc을 이용하여 앞의 10명의 고객의 고객ID, Title, 성명(FirstName, MiddleName, LastName)을 출력하시오."
   ]
  },
  {
   "cell_type": "raw",
   "metadata": {},
   "source": [
    "8. 고객의 성별로 평균 연수입을 구하시오."
   ]
  },
  {
   "cell_type": "raw",
   "metadata": {},
   "source": [
    "9. 데이터에 결측값을 가지는 컬럼들은 무엇인지 확인하시오."
   ]
  },
  {
   "cell_type": "raw",
   "metadata": {},
   "source": [
    "10. 연수입이 5만불미만이면 'Low', 5만불 이상 10만불 미만이면 'Middle', 10만불이상이면 'High' 값을 가지는 컬럼 'IncomeLevel' 컬럼을 apply lambda를 사용하여 생성하시오."
   ]
  }
 ],
 "metadata": {
  "kernelspec": {
   "display_name": "Python 3 (ipykernel)",
   "language": "python",
   "name": "python3"
  },
  "language_info": {
   "codemirror_mode": {
    "name": "ipython",
    "version": 3
   },
   "file_extension": ".py",
   "mimetype": "text/x-python",
   "name": "python",
   "nbconvert_exporter": "python",
   "pygments_lexer": "ipython3",
   "version": "3.8.5"
  }
 },
 "nbformat": 4,
 "nbformat_minor": 4
}
