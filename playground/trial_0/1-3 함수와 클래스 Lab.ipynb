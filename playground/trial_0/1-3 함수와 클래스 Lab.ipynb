{
 "cells": [
  {
   "cell_type": "markdown",
   "metadata": {},
   "source": [
    "# 1-3 함수와 클래스 Lab"
   ]
  },
  {
   "cell_type": "markdown",
   "metadata": {},
   "source": [
    "1. 리스트를 인자로 받아서 리스트 내에 포함된 3의 배수의 합을 반환하는 함수 three_num_sum()을 작성하십시오. \n",
    "(Hint) 나머지 연산자 %를 사용하십시오."
   ]
  },
  {
   "cell_type": "markdown",
   "metadata": {},
   "source": [
    "2. 클래스 Rectangle을 상속 받아서 Square (정사각형) 클래스를 생성하시오. 구체적으로 Square 클래스를 다음과 같이 정의하십시오.\n",
    "\n",
    "- Square 클래스 인스턴스는 width, height 두 인자가 아닌 side(한 변의 길이), 한 인자를 입력으로 받아서 객체 인스턴스를 생성합니다.\n",
    "- 한 변의 길이를 변경하는 setSide() 메서드를 생성하십시오.\n",
    "- 한 변의 길이를 반환하는 getSide() 메소드를 생성하십시오.\n",
    "- 문자열 반환 시에 “Side Length: 5”의 형태로 반환하도록 __str__ 함수를 수정하십시오.\n",
    "\n",
    "작성된 클래스를 사용하여 다음을 수행하십시오.\n",
    "\n",
    "- 한 변의 길이가 7인 정사각형 s1을 생성하십시오.\n",
    "- 정사각형 s1을 print()문을 이용해서 출력하십시오.\n",
    "- 정사각형 s1의 면적을 구하십시오.\n",
    "- 정사각형 s1의 한 변의 길이를 9로 변경하십시오.\n",
    "- 정사각형 s1을 print()문을 이용해서 출력하십시오."
   ]
  }
 ],
 "metadata": {
  "kernelspec": {
   "display_name": "Python 3 (ipykernel)",
   "language": "python",
   "name": "python3"
  },
  "language_info": {
   "codemirror_mode": {
    "name": "ipython",
    "version": 3
   },
   "file_extension": ".py",
   "mimetype": "text/x-python",
   "name": "python",
   "nbconvert_exporter": "python",
   "pygments_lexer": "ipython3",
   "version": "3.8.5"
  }
 },
 "nbformat": 4,
 "nbformat_minor": 4
}
