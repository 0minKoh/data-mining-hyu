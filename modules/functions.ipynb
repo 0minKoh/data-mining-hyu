{
 "cells": [
  {
   "cell_type": "markdown",
   "metadata": {},
   "source": [
    "# 방향성 데이터 마이닝"
   ]
  },
  {
   "cell_type": "markdown",
   "metadata": {},
   "source": [
    "## Confusion Matrics"
   ]
  },
  {
   "cell_type": "code",
   "execution_count": 1,
   "metadata": {},
   "outputs": [
    {
     "name": "stdout",
     "output_type": "stream",
     "text": [
      "Accuracy: 0.65, Precision: 0.6666666666666666, Recall(=Sensitivity): 0.6, F1: 0.631578947368421\n"
     ]
    }
   ],
   "source": [
    "# Confusion Matrics의 4개 변수를 입력받아, 각 Scoreㄹ 계산하는 프로그램을 작성하시오.\n",
    "def get_scores(tp, fp, fn, tn):\n",
    "    accuracy = (tp + tn) / (tp + fp + fn + tn)\n",
    "    precision = tp / (tp + fp)\n",
    "    recall = tp / (tp + fn)\n",
    "    f1 = 2 * precision * recall / (precision + recall)\n",
    "    print(f\"Accuracy: {accuracy}, Precision: {precision}, Recall(=Sensitivity): {recall}, F1: {f1}\")\n",
    "\n",
    "#     예측값\n",
    "#       | P | N    |\n",
    "# 실 P  | TP | FN  |\n",
    "# 제 N  | FP | TN  |\n",
    "\n",
    "# TP, FP, FN, TN을 입력받아서 Accuracy, Precision, Recall, F1을 계산\n",
    "get_scores(60, 30, 40, 70)\n"
   ]
  },
  {
   "cell_type": "markdown",
   "metadata": {},
   "source": [
    "## Gain & Lift Chart"
   ]
  },
  {
   "cell_type": "code",
   "execution_count": 6,
   "metadata": {},
   "outputs": [
    {
     "data": {
      "text/plain": [
       "6"
      ]
     },
     "execution_count": 6,
     "metadata": {},
     "output_type": "execute_result"
    }
   ],
   "source": [
    "def sum(num_list: list):\n",
    "  sum = 0\n",
    "  for num in num_list:\n",
    "    sum += num\n",
    "  return sum\n",
    "\n",
    "sum([1, 2, 3])"
   ]
  },
  {
   "cell_type": "code",
   "execution_count": 2,
   "metadata": {},
   "outputs": [
    {
     "name": "stdout",
     "output_type": "stream",
     "text": [
      "Gain: 0.3\n"
     ]
    }
   ],
   "source": [
    "# Gain = P( Class_t | 표본 )\n",
    "def getGain(class_t_size, sample_size):\n",
    "  print(f\"Gain: {class_t_size/sample_size}\")\n",
    "  return class_t_size/sample_size\n",
    "\n",
    "gain = getGain(90, 300)"
   ]
  },
  {
   "cell_type": "code",
   "execution_count": 3,
   "metadata": {},
   "outputs": [
    {
     "name": "stdout",
     "output_type": "stream",
     "text": [
      "Lift: 2.142857142857143\n"
     ]
    },
    {
     "data": {
      "text/plain": [
       "2.142857142857143"
      ]
     },
     "execution_count": 3,
     "metadata": {},
     "output_type": "execute_result"
    }
   ],
   "source": [
    "# Lift = Gain / P( Class_t | 전체 )\n",
    "def getLift(class_t_size, total_size):\n",
    "  lift = gain / (class_t_size / total_size)\n",
    "  print(f\"Lift: {lift}\")\n",
    "  return lift\n",
    "\n",
    "getLift(140, 1000)"
   ]
  },
  {
   "cell_type": "markdown",
   "metadata": {},
   "source": [
    "## MAE, RMSE, MAPE"
   ]
  },
  {
   "cell_type": "code",
   "execution_count": 2,
   "metadata": {},
   "outputs": [
    {
     "name": "stdout",
     "output_type": "stream",
     "text": [
      "MAE: 2.2\n",
      "RMSE: 2.32379000772445\n",
      "MAPE: 0.12066666666666667\n"
     ]
    },
    {
     "data": {
      "text/plain": [
       "0.12066666666666667"
      ]
     },
     "execution_count": 2,
     "metadata": {},
     "output_type": "execute_result"
    }
   ],
   "source": [
    "y_and_y_prime = [\n",
    "  (10, 12),\n",
    "  (15, 13),\n",
    "  (20, 21),\n",
    "  (25, 28),\n",
    "  (30, 27)\n",
    "]\n",
    "\n",
    "# MAE (Mean Absolute Error) = Σ | y - y' | / n\n",
    "def getMAE(y_and_y_prime: list):\n",
    "  sum = 0\n",
    "  for y, y_prime in y_and_y_prime:\n",
    "    sum += abs(y - y_prime)\n",
    "  mae = sum / len(y_and_y_prime)\n",
    "  print(f\"MAE: {mae}\")\n",
    "  return mae\n",
    "\n",
    "# RMSE (Root Mean Squared Error) = √( Σ (y - y')^2 / n )\n",
    "\n",
    "def getRMSE(y_and_y_prime: list):\n",
    "  sum = 0\n",
    "  for y, y_prime in y_and_y_prime:\n",
    "    sum += (y - y_prime) ** 2\n",
    "  rmse = (sum / len(y_and_y_prime)) ** 0.5\n",
    "  print(f\"RMSE: {rmse}\")\n",
    "  return rmse\n",
    "\n",
    "# MAPE (Mean Absolute Percentage Error) = Σ | (y - y') / y | / n\n",
    "def getMAPE(y_and_y_prime: list):\n",
    "  sum = 0\n",
    "  for y, y_prime in y_and_y_prime:\n",
    "    sum += abs((y - y_prime) / y)\n",
    "  mape = sum / len(y_and_y_prime)\n",
    "  print(f\"MAPE: {mape}\")\n",
    "  return mape\n",
    "\n",
    "getMAE(y_and_y_prime)\n",
    "getRMSE(y_and_y_prime)\n",
    "getMAPE(y_and_y_prime)"
   ]
  },
  {
   "cell_type": "markdown",
   "metadata": {},
   "source": [
    "# 통계적 기법"
   ]
  },
  {
   "cell_type": "markdown",
   "metadata": {},
   "source": [
    "## 나이브 베이지안 모형"
   ]
  },
  {
   "cell_type": "code",
   "execution_count": 4,
   "metadata": {},
   "outputs": [
    {
     "name": "stdout",
     "output_type": "stream",
     "text": [
      "P(C | Features): 0.0018518518518518513\n",
      "P(C | Features): 0.028125000000000004\n"
     ]
    },
    {
     "data": {
      "text/plain": [
       "0.028125000000000004"
      ]
     },
     "execution_count": 4,
     "metadata": {},
     "output_type": "execute_result"
    }
   ],
   "source": [
    "# P(C | Features) = P(C) * P(feature1 | C) * P(feature2 | C) * ... * P(featureN | C)\n",
    "def getClassProb(class_prob: float, feature_probs: list):\n",
    "  prob = class_prob\n",
    "  for feature_prob in feature_probs:\n",
    "    prob *= feature_prob\n",
    "  print(f\"P(C | Features): {prob}\")\n",
    "  return prob\n",
    "\n",
    "# y = True P( true | Features)\n",
    "class_prob = 6/10\n",
    "feature_probs = [\n",
    "  1/6,\n",
    "  2/6,\n",
    "  2/6,\n",
    "  1/6\n",
    "]\n",
    "getClassProb(class_prob, feature_probs)\n",
    "\n",
    "# y = False P( false | Features)\n",
    "class_prob = 4/10\n",
    "feature_probs = [\n",
    "  3/4,\n",
    "  1/4,\n",
    "  3/4,\n",
    "  2/4\n",
    "]\n",
    "getClassProb(class_prob, feature_probs)"
   ]
  },
  {
   "cell_type": "code",
   "execution_count": 6,
   "metadata": {},
   "outputs": [
    {
     "data": {
      "text/plain": [
       "0.0018555499926000004"
      ]
     },
     "execution_count": 6,
     "metadata": {},
     "output_type": "execute_result"
    }
   ],
   "source": [
    "0.167*0.333*0.333*0.167*0.6"
   ]
  },
  {
   "cell_type": "markdown",
   "metadata": {},
   "source": [
    "# 의사결정모형"
   ]
  },
  {
   "cell_type": "markdown",
   "metadata": {},
   "source": [
    "## 분할의 평가"
   ]
  },
  {
   "cell_type": "markdown",
   "metadata": {},
   "source": [
    "### Gini"
   ]
  },
  {
   "cell_type": "code",
   "execution_count": 13,
   "metadata": {},
   "outputs": [
    {
     "name": "stdout",
     "output_type": "stream",
     "text": [
      "분기 전:\n",
      "0.5\n",
      "\n",
      "\n",
      "분기 후:\n",
      "0.8200000000000001\n"
     ]
    }
   ],
   "source": [
    "# Gini = Sum P(k)^2\n",
    "def getGini(class_a, class_b):\n",
    "  gini = (class_a / (class_a+class_b)) ** 2 + (class_b / (class_a+class_b)) ** 2\n",
    "  return gini\n",
    "\n",
    "# 분기 전\n",
    "print(\"분기 전:\")\n",
    "print(getGini(5, 5))\n",
    "\n",
    "print(\"\\n\")\n",
    "# 분기 후\n",
    "print(\"분기 후:\")\n",
    "print((getGini(9, 1) + getGini(1, 9))/2)"
   ]
  },
  {
   "cell_type": "markdown",
   "metadata": {},
   "source": [
    "### Entropy"
   ]
  },
  {
   "cell_type": "code",
   "execution_count": 17,
   "metadata": {},
   "outputs": [
    {
     "name": "stdout",
     "output_type": "stream",
     "text": [
      "분기 전:\n",
      "1.0\n",
      "\n",
      "\n",
      "분기 후:\n",
      "0.4689955935892812\n"
     ]
    }
   ],
   "source": [
    "import math\n",
    "# Entropy = -Σ P(k) * log2(P(k))\n",
    "def getEntropy(class_a, class_b):\n",
    "  entropy = - ((class_a / (class_a+class_b)) * math.log2(class_a / (class_a+class_b)) + (class_b / (class_a+class_b)) * math.log2(class_b / (class_a+class_b)))\n",
    "  return entropy\n",
    "\n",
    "# 분기 전\n",
    "print(\"분기 전:\")\n",
    "print(getEntropy(5, 5))\n",
    "\n",
    "print(\"\\n\")\n",
    "# 분기 후\n",
    "print(\"분기 후:\")\n",
    "print((getEntropy(9, 1) + getEntropy(1, 9))/2)"
   ]
  },
  {
   "cell_type": "code",
   "execution_count": 3,
   "metadata": {},
   "outputs": [
    {
     "data": {
      "text/plain": [
       "0.25"
      ]
     },
     "execution_count": 3,
     "metadata": {},
     "output_type": "execute_result"
    }
   ],
   "source": [
    "Odds = 0.2 / 0.8\n",
    "Odds"
   ]
  },
  {
   "cell_type": "code",
   "execution_count": null,
   "metadata": {},
   "outputs": [],
   "source": []
  }
 ],
 "metadata": {
  "kernelspec": {
   "display_name": "data-analysis",
   "language": "python",
   "name": "python3"
  },
  "language_info": {
   "codemirror_mode": {
    "name": "ipython",
    "version": 3
   },
   "file_extension": ".py",
   "mimetype": "text/x-python",
   "name": "python",
   "nbconvert_exporter": "python",
   "pygments_lexer": "ipython3",
   "version": "3.11.4"
  }
 },
 "nbformat": 4,
 "nbformat_minor": 2
}
